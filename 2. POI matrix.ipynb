{
 "cells": [
  {
   "cell_type": "code",
   "execution_count": null,
   "metadata": {},
   "outputs": [],
   "source": [
    "# import the packages we need\n",
    "import pandas as pd\n",
    "import geopandas as gpd\n",
    "import movingpandas as mpd\n",
    "from shapely.geometry import Point\n",
    "from datetime import datetime\n",
    "from pyproj import CRS\n",
    "import numpy as np\n",
    "import plotly.express as px\n",
    "from datetime import timedelta\n",
    "import os\n",
    "import json"
   ]
  },
  {
   "cell_type": "markdown",
   "metadata": {},
   "source": [
    "### POI cleaning"
   ]
  },
  {
   "cell_type": "code",
   "execution_count": null,
   "metadata": {},
   "outputs": [],
   "source": [
    "# filter out low quality (less than 3 not contained) poi data\n",
    "poi=poi[poi.QUALITY>=3]\n",
    "# drop useless columns\n",
    "poi.drop(columns=['QUALITY'],inplace=True)"
   ]
  },
  {
   "cell_type": "code",
   "execution_count": null,
   "metadata": {},
   "outputs": [],
   "source": [
    "# extract level1 category code\n",
    "poi['level1']=poi['CAT_CODE']\n",
    "poi['level1']= [x[:3] for x in poi['CAT_CODE']]\n",
    "poi['level1'] = poi['level1'].astype(str).astype(int)\n",
    "poi.head()"
   ]
  },
  {
   "cell_type": "code",
   "execution_count": null,
   "metadata": {},
   "outputs": [],
   "source": [
    "# clean poi based on chain name\n",
    "poi_1= poi[(poi['level1']==400)|(poi['level1']==550)|(poi['level1']==900)|(poi['level1']==350)|(poi['level1']==800)]\n",
    "poi_2= poi[(poi['level1']!=400)&(poi['level1']!=550)&(poi['level1']!=900)&(poi['level1']!=350)&(poi['level1']!=800)].dropna(subset=['CHAIN_NAME'])\n",
    "poi1=pd.concat([poi_1,poi_2])"
   ]
  },
  {
   "cell_type": "markdown",
   "metadata": {},
   "source": [
    "### POI opening and closing hour"
   ]
  },
  {
   "cell_type": "markdown",
   "metadata": {},
   "source": [
    "opening hour and closing hour are in json format. the following code attempts to transfrom json format to readable format\n"
   ]
  },
  {
   "cell_type": "code",
   "execution_count": null,
   "metadata": {},
   "outputs": [],
   "source": [
    "# deal with json format\n",
    "opening_hour['LABELS'] = opening_hour['JSON_OPENINGTIME'].str.strip('[]').str.split(', ')\n",
    "opening_hour.head(3)"
   ]
  },
  {
   "cell_type": "code",
   "execution_count": null,
   "metadata": {},
   "outputs": [],
   "source": [
    "# extract opening and closing time to columns\n",
    "opening_hour['SUNDAY_O']='0'\n",
    "opening_hour['SUNDAY_C']='0'\n",
    "\n",
    "opening_hour['SATURDAY_O']='0'\n",
    "opening_hour['SATURDAY_C']='0'\n",
    "\n",
    "opening_hour['FRIDAY_O']='0'\n",
    "opening_hour['FRIDAY_C']='0'\n",
    "\n",
    "opening_hour['THURSDAY_O']='0'\n",
    "opening_hour['THURSDAY_C']='0'\n",
    "\n",
    "opening_hour['WEDNESDAY_O']='0'\n",
    "opening_hour['WEDNESDAY_C']='0'\n",
    "\n",
    "opening_hour['TUESDAY_O']='0'\n",
    "opening_hour['TUESDAY_C']='0'\n",
    "\n",
    "opening_hour['MONDAY_O']='0'\n",
    "opening_hour['MONDAY_C']='0'\n",
    "\n",
    "for j in range(0,len(opening_hour.index)):\n",
    "    for i in (0,3,6,9,12,15,18):\n",
    "        try: \n",
    "            if opening_hour.LABELS[j][i][15:21]=='SUNDAY':\n",
    "                opening_hour['SUNDAY_O'][j]=pd.to_numeric(opening_hour.LABELS[j][i+1][-9:-7])\n",
    "                opening_hour['SUNDAY_C'][j]=pd.to_numeric(opening_hour.LABELS[j][i+2][-10:-8])\n",
    "            if opening_hour.LABELS[j][i][15:23]=='SATURDAY':\n",
    "                opening_hour['SATURDAY_O'][j]=pd.to_numeric(opening_hour.LABELS[j][i+1][-9:-7])\n",
    "                opening_hour['SATURDAY_C'][j]=pd.to_numeric(opening_hour.LABELS[j][i+2][-10:-8])\n",
    "            if opening_hour.LABELS[j][i][15:21]=='FRIDAY':\n",
    "                opening_hour['FRIDAY_O'][j]=pd.to_numeric(opening_hour.LABELS[j][i+1][-9:-7])\n",
    "                opening_hour['FRIDAY_C'][j]=pd.to_numeric(opening_hour.LABELS[j][i+2][-10:-8])\n",
    "            if opening_hour.LABELS[j][i][15:23]=='THURSDAY':\n",
    "                opening_hour['THURSDAY_O'][j]=pd.to_numeric(opening_hour.LABELS[j][i+1][-9:-7])\n",
    "                opening_hour['THURSDAY_C'][j]=pd.to_numeric(opening_hour.LABELS[j][i+2][-10:-8])\n",
    "            if opening_hour.LABELS[j][i][15:24]=='WEDNESDAY':\n",
    "                opening_hour['WEDNESDAY_O'][j]=pd.to_numeric(opening_hour.LABELS[j][i+1][-9:-7])\n",
    "                opening_hour['WEDNESDAY_C'][j]=pd.to_numeric(opening_hour.LABELS[j][i+2][-10:-8])\n",
    "            if opening_hour.LABELS[j][i][15:22]=='TUESDAY':\n",
    "                opening_hour['TUESDAY_O'][j]=pd.to_numeric(opening_hour.LABELS[j][i+1][-9:-7])\n",
    "                opening_hour['TUESDAY_C'][j]=pd.to_numeric(opening_hour.LABELS[j][i+2][-10:-8])\n",
    "            if opening_hour.LABELS[j][i][15:21]=='MONDAY':\n",
    "                opening_hour['MONDAY_O'][j]=pd.to_numeric(opening_hour.LABELS[j][i+1][-9:-7])\n",
    "                opening_hour['MONDAY_C'][j]=pd.to_numeric(opening_hour.LABELS[j][i+2][-10:-8])\n",
    "        except:\n",
    "            continue\n"
   ]
  },
  {
   "cell_type": "code",
   "execution_count": null,
   "metadata": {},
   "outputs": [],
   "source": [
    "# create a list of column names\n",
    "col=list(opening_hour.columns.values)\n",
    "col"
   ]
  },
  {
   "cell_type": "code",
   "execution_count": null,
   "metadata": {},
   "outputs": [],
   "source": [
    "# convert str to int\n",
    "for i in col[1:]:\n",
    "    opening_hour[i]=opening_hour[i].astype(str).astype(int)"
   ]
  },
  {
   "cell_type": "markdown",
   "metadata": {},
   "source": [
    "### merge the opening hour with POI data"
   ]
  },
  {
   "cell_type": "code",
   "execution_count": null,
   "metadata": {},
   "outputs": [],
   "source": [
    "# merge with poi to get cat-code\n",
    "poi_opening_hour = pd.merge(poi1, opening_hour,how=\"left\", left_on='ID',right_on='POID')\n",
    "poi_opening_hour"
   ]
  },
  {
   "cell_type": "code",
   "execution_count": null,
   "metadata": {},
   "outputs": [],
   "source": [
    "# drop nan\n",
    "poi_opening_hour= poi_opening_hour.dropna(subset=['NAME'])\n",
    "poi_opening_hour"
   ]
  },
  {
   "cell_type": "markdown",
   "metadata": {},
   "source": [
    "### median opening and closing hour for each type of poi"
   ]
  },
  {
   "cell_type": "code",
   "execution_count": null,
   "metadata": {},
   "outputs": [],
   "source": [
    "# # assign category with median open and close hour\n",
    "code=list(poi_opening_hour1.level1.unique())\n",
    "\n",
    "for j in code:\n",
    "    for i in col[1:]:\n",
    "        opening = poi_opening_hour1[poi_opening_hour1.level1==j]\n",
    "        opening = opening.dropna()\n",
    "        try:\n",
    "            n = round(opening[(opening[i] != 0)][i].median())\n",
    "            categories.loc[categories.level1Code == j, i] = n\n",
    "        \n",
    "        except:\n",
    "            categories.loc[categories.level1Code == j, i] = opening[(opening[i] != 0)][i].median()\n",
    "\n",
    "categories\n"
   ]
  },
  {
   "cell_type": "code",
   "execution_count": null,
   "metadata": {},
   "outputs": [],
   "source": [
    "# label the time segments\n",
    "categories1=categories.copy()\n",
    "\n",
    "for i in col[1:]:\n",
    "    categories1.loc[categories1[i].isin(range(6,10)), i] = 'S1'\n",
    "    categories1.loc[categories1[i].isin(range(10,13)), i] = 'S2'\n",
    "    categories1.loc[categories1[i].isin(range(13,16)), i] = 'S3'\n",
    "    categories1.loc[categories1[i].isin(range(16,19)), i] = 'S4'\n",
    "    categories1.loc[categories1[i].isin(range(19,22)), i] = 'S5'\n",
    "    categories1.loc[categories1[i].isin(range(22,25)), i] = 'S6'\n",
    "\n",
    "categories1"
   ]
  },
  {
   "cell_type": "code",
   "execution_count": null,
   "metadata": {},
   "outputs": [],
   "source": [
    "# merge with categories\n",
    "poi_cat_hour = pd.merge(poi1, categories1, \n",
    "                            how=\"left\", left_on='level1',right_on='level1Code')\n",
    "poi_cat_hour"
   ]
  }
 ],
 "metadata": {
  "kernelspec": {
   "display_name": "CASA2020",
   "language": "python",
   "name": "sds2020"
  },
  "language_info": {
   "codemirror_mode": {
    "name": "ipython",
    "version": 3
   },
   "file_extension": ".py",
   "mimetype": "text/x-python",
   "name": "python",
   "nbconvert_exporter": "python",
   "pygments_lexer": "ipython3",
   "version": "3.8.10"
  }
 },
 "nbformat": 4,
 "nbformat_minor": 4
}
